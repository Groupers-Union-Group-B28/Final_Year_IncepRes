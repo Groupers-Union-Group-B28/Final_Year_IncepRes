{
 "cells": [
  {
   "cell_type": "code",
   "execution_count": 1,
   "metadata": {},
   "outputs": [],
   "source": [
    "import os\n",
    "import numpy as np\n",
    "import random\n",
    "import shutil"
   ]
  },
  {
   "cell_type": "code",
   "execution_count": null,
   "metadata": {},
   "outputs": [],
   "source": [
    "path = 'archive (3)/Multi Cancer/Multi Cancer'\n",
    "h = os.listdir(path)"
   ]
  },
  {
   "cell_type": "code",
   "execution_count": null,
   "metadata": {},
   "outputs": [],
   "source": [
    "dest_path = 'Cancer_dataset_all'\n",
    "for i in h:\n",
    "    os.mkdir(dest_path+'/train/'+i)\n",
    "    os.mkdir(dest_path+'/test/'+i)\n",
    "    os.mkdir(dest_path+'/val/'+i)"
   ]
  },
  {
   "cell_type": "markdown",
   "metadata": {},
   "source": [
    "Train Folder"
   ]
  },
  {
   "cell_type": "code",
   "execution_count": null,
   "metadata": {},
   "outputs": [],
   "source": [
    "for i in h:\n",
    "    g = os.listdir(path+'/'+i)\n",
    "    \n",
    "    for j in g:  #base dir level\n",
    "        f = os.listdir(path+'/'+i+'/'+j)\n",
    "        train_sample = random.sample(range(1000), 500)\n",
    "        count = 0\n",
    "        \n",
    "        for k in f:\n",
    "            if count in train_sample:\n",
    "                shutil.copy(path+'/'+i+'/'+j+'/'+k, dest_path+'/test/'+j)\n",
    "                os.remove(path+'/'+i+'/'+j+'/'+k)\n",
    "            count += 1"
   ]
  },
  {
   "cell_type": "markdown",
   "metadata": {},
   "source": [
    "Test Folder"
   ]
  },
  {
   "cell_type": "code",
   "execution_count": null,
   "metadata": {},
   "outputs": [],
   "source": [
    "for i in h:\n",
    "    g = os.listdir(path+'/'+i)\n",
    "    \n",
    "    for j in g:  #base dir level\n",
    "        f = os.listdir(path+'/'+i+'/'+j)\n",
    "        test_sample = random.sample(range(1000), 500)\n",
    "        count = 0\n",
    "        \n",
    "        for k in f:\n",
    "            if count in test_sample:\n",
    "                shutil.copy(path+'/'+i+'/'+j+'/'+k, dest_path+'/test/'+j)\n",
    "                os.remove(path+'/'+i+'/'+j+'/'+k)\n",
    "            count += 1"
   ]
  },
  {
   "cell_type": "markdown",
   "metadata": {},
   "source": [
    "Validation Folder"
   ]
  },
  {
   "cell_type": "code",
   "execution_count": null,
   "metadata": {},
   "outputs": [],
   "source": [
    "for i in h:\n",
    "    g = os.listdir(path+'/'+i)\n",
    "    \n",
    "    for j in g:  #base dir level\n",
    "        f = os.listdir(path+'/'+i+'/'+j)\n",
    "        val_sample = random.sample(range(500), 500)\n",
    "        count = 0\n",
    "        \n",
    "        for k in f:\n",
    "            if count in val_sample:\n",
    "                shutil.copy(path+'/'+i+'/'+j+'/'+k, dest_path+'/val/'+j)\n",
    "                os.remove(path+'/'+i+'/'+j+'/'+k)\n",
    "            count += 1"
   ]
  }
 ],
 "metadata": {
  "kernelspec": {
   "display_name": "Python 3",
   "language": "python",
   "name": "python3"
  },
  "language_info": {
   "codemirror_mode": {
    "name": "ipython",
    "version": 3
   },
   "file_extension": ".py",
   "mimetype": "text/x-python",
   "name": "python",
   "nbconvert_exporter": "python",
   "pygments_lexer": "ipython3",
   "version": "3.10.0"
  }
 },
 "nbformat": 4,
 "nbformat_minor": 2
}
